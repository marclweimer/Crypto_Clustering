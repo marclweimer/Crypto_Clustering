{
 "cells": [
  {
   "cell_type": "markdown",
   "metadata": {},
   "source": [
    "# Clustering Crypto"
   ]
  },
  {
   "cell_type": "code",
   "execution_count": 21,
   "metadata": {},
   "outputs": [],
   "source": [
    "import requests\n",
    "import pandas as pd\n",
    "import matplotlib.pyplot as plt\n",
    "import hvplot.pandas\n",
    "import plotly.express as px\n",
    "from sklearn.preprocessing import StandardScaler, MinMaxScaler, LabelEncoder\n",
    "from sklearn.decomposition import PCA\n",
    "from sklearn.cluster import KMeans\n",
    "from urllib.request import Request, urlopen\n",
    "import json"
   ]
  },
  {
   "cell_type": "markdown",
   "metadata": {},
   "source": [
    "### Fetching Cryptocurrency Data"
   ]
  },
  {
   "cell_type": "code",
   "execution_count": 22,
   "metadata": {},
   "outputs": [],
   "source": [
    "url = \"https://min-api.cryptocompare.com/data/all/coinlist\"\n",
    "json_request = Request(url)\n",
    "json_response = urlopen(json_request)\n",
    "data = json_response.read()\n",
    "json_data = json.loads(data)"
   ]
  },
  {
   "cell_type": "code",
   "execution_count": 23,
   "metadata": {},
   "outputs": [
    {
     "data": {
      "text/html": "<div>\n<style scoped>\n    .dataframe tbody tr th:only-of-type {\n        vertical-align: middle;\n    }\n\n    .dataframe tbody tr th {\n        vertical-align: top;\n    }\n\n    .dataframe thead th {\n        text-align: right;\n    }\n</style>\n<table border=\"1\" class=\"dataframe\">\n  <thead>\n    <tr style=\"text-align: right;\">\n      <th></th>\n      <th>Algorithm</th>\n      <th>BlockNumber</th>\n      <th>BlockReward</th>\n      <th>BlockTime</th>\n      <th>BuiltOn</th>\n      <th>CoinName</th>\n      <th>ContentCreatedOn</th>\n      <th>FullName</th>\n      <th>FullyPremined</th>\n      <th>Id</th>\n      <th>...</th>\n      <th>Rating</th>\n      <th>SmartContractAddress</th>\n      <th>SortOrder</th>\n      <th>Sponsored</th>\n      <th>Symbol</th>\n      <th>Taxonomy</th>\n      <th>TotalCoinSupply</th>\n      <th>TotalCoinsFreeFloat</th>\n      <th>TotalCoinsMined</th>\n      <th>Url</th>\n    </tr>\n  </thead>\n  <tbody>\n    <tr>\n      <th>42</th>\n      <td>Scrypt</td>\n      <td>154593</td>\n      <td>0</td>\n      <td>0</td>\n      <td>N/A</td>\n      <td>42 Coin</td>\n      <td>1427211129</td>\n      <td>42 Coin (42)</td>\n      <td>0</td>\n      <td>4321</td>\n      <td>...</td>\n      <td>{'Weiss': {'Rating': '', 'TechnologyAdoptionRa...</td>\n      <td>N/A</td>\n      <td>34</td>\n      <td>False</td>\n      <td>42</td>\n      <td>{'Access': '', 'FCA': '', 'FINMA': '', 'Indust...</td>\n      <td>42</td>\n      <td>N/A</td>\n      <td>42</td>\n      <td>/coins/42/overview</td>\n    </tr>\n    <tr>\n      <th>300</th>\n      <td>N/A</td>\n      <td>0</td>\n      <td>0</td>\n      <td>0</td>\n      <td>7605</td>\n      <td>300 token</td>\n      <td>1517935016</td>\n      <td>300 token (300)</td>\n      <td>0</td>\n      <td>749869</td>\n      <td>...</td>\n      <td>{'Weiss': {'Rating': '', 'TechnologyAdoptionRa...</td>\n      <td>0xaec98a708810414878c3bcdf46aad31ded4a4557</td>\n      <td>2212</td>\n      <td>False</td>\n      <td>300</td>\n      <td>{'Access': '', 'FCA': '', 'FINMA': '', 'Indust...</td>\n      <td>300</td>\n      <td>N/A</td>\n      <td>300</td>\n      <td>/coins/300/overview</td>\n    </tr>\n    <tr>\n      <th>365</th>\n      <td>X11</td>\n      <td>NaN</td>\n      <td>NaN</td>\n      <td>NaN</td>\n      <td>N/A</td>\n      <td>365Coin</td>\n      <td>1480032918</td>\n      <td>365Coin (365)</td>\n      <td>0</td>\n      <td>33639</td>\n      <td>...</td>\n      <td>{'Weiss': {'Rating': '', 'TechnologyAdoptionRa...</td>\n      <td>N/A</td>\n      <td>916</td>\n      <td>False</td>\n      <td>365</td>\n      <td>{'Access': '', 'FCA': '', 'FINMA': '', 'Indust...</td>\n      <td>2300000000</td>\n      <td>N/A</td>\n      <td>NaN</td>\n      <td>/coins/365/overview</td>\n    </tr>\n    <tr>\n      <th>404</th>\n      <td>Scrypt</td>\n      <td>287687</td>\n      <td>0</td>\n      <td>60</td>\n      <td>N/A</td>\n      <td>404Coin</td>\n      <td>1466100361</td>\n      <td>404Coin (404)</td>\n      <td>0</td>\n      <td>21227</td>\n      <td>...</td>\n      <td>{'Weiss': {'Rating': '', 'TechnologyAdoptionRa...</td>\n      <td>N/A</td>\n      <td>602</td>\n      <td>False</td>\n      <td>404</td>\n      <td>{'Access': '', 'FCA': '', 'FINMA': '', 'Indust...</td>\n      <td>532000000</td>\n      <td>N/A</td>\n      <td>0</td>\n      <td>/coins/404/overview</td>\n    </tr>\n    <tr>\n      <th>433</th>\n      <td>N/A</td>\n      <td>9191708</td>\n      <td>2</td>\n      <td>0</td>\n      <td>7605</td>\n      <td>433 Token</td>\n      <td>1541597321</td>\n      <td>433 Token (433)</td>\n      <td>0</td>\n      <td>926547</td>\n      <td>...</td>\n      <td>{'Weiss': {'Rating': '', 'TechnologyAdoptionRa...</td>\n      <td>0x738505a5f31bf72e0b70298bca81150eb1b7c751</td>\n      <td>3505</td>\n      <td>False</td>\n      <td>433</td>\n      <td>{'Access': '', 'FCA': '', 'FINMA': '', 'Indust...</td>\n      <td>1000000000</td>\n      <td>N/A</td>\n      <td>1.09091e+08</td>\n      <td>/coins/433/overview</td>\n    </tr>\n  </tbody>\n</table>\n<p>5 rows × 26 columns</p>\n</div>",
      "text/plain": "    Algorithm BlockNumber BlockReward BlockTime BuiltOn   CoinName  \\\n42     Scrypt      154593           0         0     N/A    42 Coin   \n300       N/A           0           0         0    7605  300 token   \n365       X11         NaN         NaN       NaN     N/A    365Coin   \n404    Scrypt      287687           0        60     N/A    404Coin   \n433       N/A     9191708           2         0    7605  433 Token   \n\n    ContentCreatedOn         FullName FullyPremined      Id  \\\n42        1427211129     42 Coin (42)             0    4321   \n300       1517935016  300 token (300)             0  749869   \n365       1480032918    365Coin (365)             0   33639   \n404       1466100361    404Coin (404)             0   21227   \n433       1541597321  433 Token (433)             0  926547   \n\n            ...                                                      Rating  \\\n42          ...           {'Weiss': {'Rating': '', 'TechnologyAdoptionRa...   \n300         ...           {'Weiss': {'Rating': '', 'TechnologyAdoptionRa...   \n365         ...           {'Weiss': {'Rating': '', 'TechnologyAdoptionRa...   \n404         ...           {'Weiss': {'Rating': '', 'TechnologyAdoptionRa...   \n433         ...           {'Weiss': {'Rating': '', 'TechnologyAdoptionRa...   \n\n                           SmartContractAddress SortOrder Sponsored Symbol  \\\n42                                          N/A        34     False     42   \n300  0xaec98a708810414878c3bcdf46aad31ded4a4557      2212     False    300   \n365                                         N/A       916     False    365   \n404                                         N/A       602     False    404   \n433  0x738505a5f31bf72e0b70298bca81150eb1b7c751      3505     False    433   \n\n                                              Taxonomy TotalCoinSupply  \\\n42   {'Access': '', 'FCA': '', 'FINMA': '', 'Indust...              42   \n300  {'Access': '', 'FCA': '', 'FINMA': '', 'Indust...             300   \n365  {'Access': '', 'FCA': '', 'FINMA': '', 'Indust...      2300000000   \n404  {'Access': '', 'FCA': '', 'FINMA': '', 'Indust...       532000000   \n433  {'Access': '', 'FCA': '', 'FINMA': '', 'Indust...      1000000000   \n\n    TotalCoinsFreeFloat TotalCoinsMined                  Url  \n42                  N/A              42   /coins/42/overview  \n300                 N/A             300  /coins/300/overview  \n365                 N/A             NaN  /coins/365/overview  \n404                 N/A               0  /coins/404/overview  \n433                 N/A     1.09091e+08  /coins/433/overview  \n\n[5 rows x 26 columns]"
     },
     "execution_count": 23,
     "metadata": {},
     "output_type": "execute_result"
    }
   ],
   "source": [
    "# Creating a DataFrame (which needed to be transposed)\n",
    "crypto_df = pd.DataFrame(json_data['Data']).T\n",
    "crypto_df.head()\n"
   ]
  },
  {
   "cell_type": "markdown",
   "metadata": {},
   "source": [
    "### Data Preprocessing"
   ]
  },
  {
   "cell_type": "code",
   "execution_count": 24,
   "metadata": {},
   "outputs": [],
   "source": [
    "# Remove unnecessary columns\n",
    "slim_crypto_df = crypto_df.drop(columns=['Rating','TotalCoinsFreeFloat', 'Url', 'Taxonomy', 'SortOrder', 'Sponsored', 'SmartContractAddress', 'Id', 'BuiltOn', 'FullName', 'ImageUrl', 'ContentCreatedOn', 'PreMinedValue'])\n"
   ]
  },
  {
   "cell_type": "code",
   "execution_count": 25,
   "metadata": {},
   "outputs": [],
   "source": [
    "# Keep only cryptocurrencies that are on trading\n",
    "slim_crypto_df = slim_crypto_df.loc[slim_crypto_df['IsTrading'] == True]"
   ]
  },
  {
   "cell_type": "code",
   "execution_count": 26,
   "metadata": {},
   "outputs": [],
   "source": [
    "# Keep only cryptocurrencies with a working algorithm\n",
    "slim_crypto_df = slim_crypto_df.loc[slim_crypto_df['Algorithm'] != 'N/A']"
   ]
  },
  {
   "cell_type": "code",
   "execution_count": 27,
   "metadata": {},
   "outputs": [],
   "source": [
    "# Remove the \"IsTrading\" column\n",
    "slim_crypto_df = slim_crypto_df.drop(columns='IsTrading')\n"
   ]
  },
  {
   "cell_type": "code",
   "execution_count": 28,
   "metadata": {},
   "outputs": [],
   "source": [
    "# Removing rows with at least 1 null value\n",
    "slim_crypto_df = slim_crypto_df.dropna()\n"
   ]
  },
  {
   "cell_type": "code",
   "execution_count": 29,
   "metadata": {},
   "outputs": [],
   "source": [
    "# Removing rows with cryptocurrencies without coins mined\n",
    "slim_crypto_df = slim_crypto_df.loc[slim_crypto_df['TotalCoinsMined'] != 0]\n"
   ]
  },
  {
   "cell_type": "code",
   "execution_count": 30,
   "metadata": {},
   "outputs": [],
   "source": [
    "# Dropping rows where there are 'N/A' text values\n",
    "slim_crypto_df = slim_crypto_df.loc[slim_crypto_df['TotalCoinSupply'] != 'N/A']\n",
    "slim_crypto_df = slim_crypto_df.loc[slim_crypto_df['ProofType'] != 'N/A']\n"
   ]
  },
  {
   "cell_type": "code",
   "execution_count": 31,
   "metadata": {},
   "outputs": [],
   "source": [
    "# Fetching the cryptocurrencies names prior to drop them from crypto_df\n",
    "names = slim_crypto_df['CoinName']\n"
   ]
  },
  {
   "cell_type": "code",
   "execution_count": 32,
   "metadata": {},
   "outputs": [],
   "source": [
    "# Removig the cryptocurrency name since it's not going to be used on the clustering algorithm\n",
    "slim_crypto_df = slim_crypto_df.drop(columns='CoinName')"
   ]
  },
  {
   "cell_type": "code",
   "execution_count": 33,
   "metadata": {},
   "outputs": [],
   "source": [
    "#Change numerical data from objects to floats\n",
    "slim_crypto_df['BlockNumber'] = slim_crypto_df.BlockNumber.astype(float)\n",
    "slim_crypto_df['BlockReward'] = slim_crypto_df.BlockReward.astype(float)\n",
    "slim_crypto_df['BlockTime'] = slim_crypto_df.BlockTime.astype(float)\n",
    "slim_crypto_df['FullyPremined'] = slim_crypto_df.FullyPremined.astype(float)\n",
    "slim_crypto_df['NetHashesPerSecond'] = slim_crypto_df.NetHashesPerSecond.astype(float)\n",
    "slim_crypto_df['TotalCoinSupply'] = slim_crypto_df.TotalCoinSupply.astype(float)\n",
    "slim_crypto_df['TotalCoinsMined'] = slim_crypto_df.TotalCoinsMined.astype(float)"
   ]
  },
  {
   "cell_type": "code",
   "execution_count": 34,
   "metadata": {},
   "outputs": [
    {
     "data": {
      "text/plain": "Algorithm              object\nBlockNumber           float64\nBlockReward           float64\nBlockTime             float64\nFullyPremined         float64\nName                   object\nNetHashesPerSecond    float64\nProofType              object\nSymbol                 object\nTotalCoinSupply       float64\nTotalCoinsMined       float64\ndtype: object"
     },
     "execution_count": 34,
     "metadata": {},
     "output_type": "execute_result"
    }
   ],
   "source": [
    "slim_crypto_df.dtypes"
   ]
  },
  {
   "cell_type": "code",
   "execution_count": 39,
   "metadata": {},
   "outputs": [],
   "source": [
    "# Creating dummies variables for text features\n",
    "slim_crypto_encoded = pd.get_dummies(data=slim_crypto_df, columns=['Name', 'Algorithm', 'ProofType', 'Symbol'])"
   ]
  },
  {
   "cell_type": "code",
   "execution_count": 40,
   "metadata": {},
   "outputs": [
    {
     "data": {
      "text/plain": "array([[-0.22456036, -0.10157802, -0.0756658 , ..., -0.04360207,\n        -0.04360207, -0.04360207],\n       [ 0.35771367, -0.10157802, -0.07566524, ..., -0.04360207,\n        -0.04360207, -0.04360207],\n       [-0.26580412, -0.10157802, -0.0756658 , ..., -0.04360207,\n        -0.04360207, -0.04360207],\n       ...,\n       [-0.26580412, -0.10027514, -0.07566563, ..., -0.04360207,\n        -0.04360207, -0.04360207],\n       [ 0.0534773 , -0.10056613, -0.0756645 , ..., -0.04360207,\n        -0.04360207, -0.04360207],\n       [-0.08538305, -0.09832082, -0.0756644 , ..., -0.04360207,\n        -0.04360207, -0.04360207]])"
     },
     "execution_count": 40,
     "metadata": {},
     "output_type": "execute_result"
    }
   ],
   "source": [
    "# Standardizing data\n",
    "slim_crypto_df_scaled = StandardScaler().fit_transform(slim_crypto_encoded)\n",
    "slim_crypto_df_scaled\n"
   ]
  },
  {
   "cell_type": "markdown",
   "metadata": {},
   "source": [
    "### Reducing Dimensions Using PCA"
   ]
  },
  {
   "cell_type": "code",
   "execution_count": 0,
   "metadata": {},
   "outputs": [],
   "source": [
    "# Using PCA to reduce dimension to 3 principal components\n",
    "\n"
   ]
  },
  {
   "cell_type": "code",
   "execution_count": 0,
   "metadata": {},
   "outputs": [],
   "source": [
    "# Creating a DataFrame with the principal components data\n",
    "\n"
   ]
  },
  {
   "cell_type": "markdown",
   "metadata": {},
   "source": [
    "### Clustering Crytocurrencies Using K-Means\n",
    "\n",
    "#### Finding the Best Value for `k` Using the Elbow Curve"
   ]
  },
  {
   "cell_type": "code",
   "execution_count": 0,
   "metadata": {},
   "outputs": [],
   "source": [
    "inertia = []\n",
    "k = list(range(1, 11))\n",
    "\n",
    "# Calculate the inertia for the range ok k values\n",
    "for i in k:\n",
    "\n",
    "\n",
    "# Create the Elbow Curve using hvPlot\n",
    "\n"
   ]
  },
  {
   "cell_type": "markdown",
   "metadata": {},
   "source": [
    "Running K-Means with `k=<you best value for k here>`"
   ]
  },
  {
   "cell_type": "code",
   "execution_count": 0,
   "metadata": {},
   "outputs": [],
   "source": [
    "# Initialize the K-Means model\n",
    "\n",
    "# Fit the model\n",
    "\n",
    "# Predict clusters\n",
    "\n",
    "# Creating a new DataFrame including predicted clusters and cryptocurrencies features\n",
    "\n"
   ]
  },
  {
   "cell_type": "markdown",
   "metadata": {},
   "source": [
    "### Visualizing Results\n",
    "\n",
    "#### 3D-Scatter with Clusters"
   ]
  },
  {
   "cell_type": "code",
   "execution_count": 0,
   "metadata": {},
   "outputs": [],
   "source": [
    "# Creating a 3D-Scatter with the PCA data and the clusters\n",
    "\n"
   ]
  },
  {
   "cell_type": "markdown",
   "metadata": {},
   "source": [
    "#### Table of Tradable Cryptocurrencies"
   ]
  },
  {
   "cell_type": "code",
   "execution_count": 0,
   "metadata": {},
   "outputs": [],
   "source": [
    "# Table with tradable cryptos\n",
    "\n"
   ]
  },
  {
   "cell_type": "markdown",
   "metadata": {},
   "source": [
    "#### Scatter Plot with Tradable Cryptocurrencies"
   ]
  },
  {
   "cell_type": "code",
   "execution_count": 0,
   "metadata": {},
   "outputs": [],
   "source": [
    "# Scaling data to create the scatter plot\n",
    "\n"
   ]
  },
  {
   "cell_type": "code",
   "execution_count": 0,
   "metadata": {},
   "outputs": [],
   "source": [
    "# Plot the scatter with x=\"TotalCoinsMined\" and y=\"TotalCoinSupply\"\n",
    "\n"
   ]
  }
 ],
 "metadata": {
  "file_extension": ".py",
  "kernelspec": {
   "display_name": "Python 3",
   "language": "python",
   "name": "python3"
  },
  "language_info": {
   "codemirror_mode": {
    "name": "ipython",
    "version": 3
   },
   "file_extension": ".py",
   "mimetype": "text/x-python",
   "name": "python",
   "nbconvert_exporter": "python",
   "pygments_lexer": "ipython3",
   "version": "3.7.3"
  },
  "mimetype": "text/x-python",
  "name": "python",
  "npconvert_exporter": "python",
  "pygments_lexer": "ipython3",
  "version": 3
 },
 "nbformat": 4,
 "nbformat_minor": 2
}